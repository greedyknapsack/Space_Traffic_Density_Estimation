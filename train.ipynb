{
 "cells": [
  {
   "cell_type": "markdown",
   "metadata": {},
   "source": [
    "## Data Preprocessing"
   ]
  },
  {
   "cell_type": "code",
   "execution_count": 34,
   "metadata": {},
   "outputs": [],
   "source": [
    "import pandas as pd\n",
    "from sklearn.model_selection import train_test_split\n",
    "from sklearn.preprocessing import StandardScaler, LabelEncoder\n",
    "import joblib"
   ]
  },
  {
   "cell_type": "code",
   "execution_count": 35,
   "metadata": {},
   "outputs": [],
   "source": [
    "# Load the dataset\n",
    "data = pd.read_excel('data/space_traffic.xlsx')"
   ]
  },
  {
   "cell_type": "code",
   "execution_count": 36,
   "metadata": {},
   "outputs": [
    {
     "name": "stdout",
     "output_type": "stream",
     "text": [
      "Timestamp          0\n",
      "Location           0\n",
      "Object_Type        0\n",
      "Traffic_Density    0\n",
      "Peak_Time          0\n",
      "dtype: int64\n"
     ]
    }
   ],
   "source": [
    "# Check for missing values in the dataset\n",
    "missing_values = data.isnull().sum()\n",
    "\n",
    "# Display the missing values count for each column\n",
    "print(missing_values)\n"
   ]
  },
  {
   "cell_type": "code",
   "execution_count": 37,
   "metadata": {},
   "outputs": [],
   "source": [
    "# Clean column names by stripping any extra spaces or special characters\n",
    "data.columns = data.columns.str.strip()\n"
   ]
  },
  {
   "cell_type": "code",
   "execution_count": 38,
   "metadata": {},
   "outputs": [],
   "source": [
    "# Convert 'Timestamp' to datetime format\n",
    "data['Timestamp'] = pd.to_datetime(data['Timestamp'], errors='coerce')\n",
    "\n",
    "# Extract Year, Month, Day, and Time from the Timestamp\n",
    "data['Year'] = data['Timestamp'].dt.year\n",
    "data['Month'] = data['Timestamp'].dt.month\n",
    "data['Day'] = data['Timestamp'].dt.day\n",
    "data['Time'] = data['Timestamp'].dt.strftime('%H:%M:%S')\n"
   ]
  },
  {
   "cell_type": "code",
   "execution_count": 39,
   "metadata": {},
   "outputs": [],
   "source": [
    "# One-hot encoding on 'Object_Type'\n",
    "data_encoded = pd.get_dummies(data, columns=['Object_Type'], drop_first=False)\n",
    "data_encoded['Object_Type'] = data['Object_Type']\n",
    "data = data_encoded.copy()"
   ]
  },
  {
   "cell_type": "code",
   "execution_count": 40,
   "metadata": {},
   "outputs": [
    {
     "name": "stdout",
     "output_type": "stream",
     "text": [
      "                Location  Location_Encoded\n",
      "0      Lagrange Point L2                 1\n",
      "1              Orbit LEO                 4\n",
      "2              Orbit LEO                 4\n",
      "3    Mars Transfer Orbit                 2\n",
      "4      Lagrange Point L1                 0\n",
      "..                   ...               ...\n",
      "995            Orbit MEO                 5\n",
      "996    Lagrange Point L1                 0\n",
      "997            Orbit MEO                 5\n",
      "998    Lagrange Point L2                 1\n",
      "999    Lagrange Point L2                 1\n",
      "\n",
      "[1000 rows x 2 columns]\n",
      "\n",
      "Label Mapping:\n",
      "{'Lagrange Point L1': np.int64(0), 'Lagrange Point L2': np.int64(1), 'Mars Transfer Orbit': np.int64(2), 'Orbit GEO': np.int64(3), 'Orbit LEO': np.int64(4), 'Orbit MEO': np.int64(5)}\n",
      "Label Encoder saved successfully.\n"
     ]
    }
   ],
   "source": [
    "# Label Encoding on 'Location'\n",
    "label_encoder = LabelEncoder()\n",
    "\n",
    "# Fit the label encoder and transform the 'Location' column\n",
    "data['Location_Encoded'] = label_encoder.fit_transform(data['Location'])\n",
    "\n",
    "# Check the encoded data and label mapping\n",
    "label_mapping = dict(zip(label_encoder.classes_, label_encoder.transform(label_encoder.classes_)))\n",
    "\n",
    "print(data[['Location', 'Location_Encoded']])\n",
    "print(\"\\nLabel Mapping:\")\n",
    "print(label_mapping)\n",
    "\n",
    "# Save the LabelEncoder object \n",
    "joblib.dump(label_encoder, 'model/label_encoder.joblib')\n",
    "\n",
    "print(\"Label Encoder saved successfully.\")\n"
   ]
  },
  {
   "cell_type": "code",
   "execution_count": 41,
   "metadata": {},
   "outputs": [
    {
     "data": {
      "text/html": [
       "<div>\n",
       "<style scoped>\n",
       "    .dataframe tbody tr th:only-of-type {\n",
       "        vertical-align: middle;\n",
       "    }\n",
       "\n",
       "    .dataframe tbody tr th {\n",
       "        vertical-align: top;\n",
       "    }\n",
       "\n",
       "    .dataframe thead th {\n",
       "        text-align: right;\n",
       "    }\n",
       "</style>\n",
       "<table border=\"1\" class=\"dataframe\">\n",
       "  <thead>\n",
       "    <tr style=\"text-align: right;\">\n",
       "      <th></th>\n",
       "      <th>Timestamp</th>\n",
       "      <th>Location</th>\n",
       "      <th>Traffic_Density</th>\n",
       "      <th>Peak_Time</th>\n",
       "      <th>Year</th>\n",
       "      <th>Month</th>\n",
       "      <th>Day</th>\n",
       "      <th>Time</th>\n",
       "      <th>Object_Type_Asteroid Mining Ship</th>\n",
       "      <th>Object_Type_Manned Spacecraft</th>\n",
       "      <th>Object_Type_Satellite</th>\n",
       "      <th>Object_Type_Scientific Probe</th>\n",
       "      <th>Object_Type_Space Debris</th>\n",
       "      <th>Object_Type_Space Station</th>\n",
       "      <th>Object_Type</th>\n",
       "      <th>Location_Encoded</th>\n",
       "    </tr>\n",
       "  </thead>\n",
       "  <tbody>\n",
       "    <tr>\n",
       "      <th>0</th>\n",
       "      <td>2024-10-21 21:00:00</td>\n",
       "      <td>Lagrange Point L2</td>\n",
       "      <td>17</td>\n",
       "      <td>15:00:00</td>\n",
       "      <td>2024</td>\n",
       "      <td>10</td>\n",
       "      <td>21</td>\n",
       "      <td>21:00:00</td>\n",
       "      <td>False</td>\n",
       "      <td>False</td>\n",
       "      <td>False</td>\n",
       "      <td>False</td>\n",
       "      <td>False</td>\n",
       "      <td>True</td>\n",
       "      <td>Space Station</td>\n",
       "      <td>1</td>\n",
       "    </tr>\n",
       "    <tr>\n",
       "      <th>1</th>\n",
       "      <td>2024-10-11 05:00:00</td>\n",
       "      <td>Orbit LEO</td>\n",
       "      <td>21</td>\n",
       "      <td>15:00:00</td>\n",
       "      <td>2024</td>\n",
       "      <td>10</td>\n",
       "      <td>11</td>\n",
       "      <td>05:00:00</td>\n",
       "      <td>False</td>\n",
       "      <td>False</td>\n",
       "      <td>True</td>\n",
       "      <td>False</td>\n",
       "      <td>False</td>\n",
       "      <td>False</td>\n",
       "      <td>Satellite</td>\n",
       "      <td>4</td>\n",
       "    </tr>\n",
       "    <tr>\n",
       "      <th>2</th>\n",
       "      <td>2024-10-29 13:00:00</td>\n",
       "      <td>Orbit LEO</td>\n",
       "      <td>88</td>\n",
       "      <td>06:00:00</td>\n",
       "      <td>2024</td>\n",
       "      <td>10</td>\n",
       "      <td>29</td>\n",
       "      <td>13:00:00</td>\n",
       "      <td>False</td>\n",
       "      <td>False</td>\n",
       "      <td>False</td>\n",
       "      <td>False</td>\n",
       "      <td>False</td>\n",
       "      <td>True</td>\n",
       "      <td>Space Station</td>\n",
       "      <td>4</td>\n",
       "    </tr>\n",
       "    <tr>\n",
       "      <th>3</th>\n",
       "      <td>2024-10-24 08:00:00</td>\n",
       "      <td>Mars Transfer Orbit</td>\n",
       "      <td>65</td>\n",
       "      <td>08:00:00</td>\n",
       "      <td>2024</td>\n",
       "      <td>10</td>\n",
       "      <td>24</td>\n",
       "      <td>08:00:00</td>\n",
       "      <td>False</td>\n",
       "      <td>False</td>\n",
       "      <td>False</td>\n",
       "      <td>True</td>\n",
       "      <td>False</td>\n",
       "      <td>False</td>\n",
       "      <td>Scientific Probe</td>\n",
       "      <td>2</td>\n",
       "    </tr>\n",
       "    <tr>\n",
       "      <th>4</th>\n",
       "      <td>2024-10-23 17:00:00</td>\n",
       "      <td>Lagrange Point L1</td>\n",
       "      <td>9</td>\n",
       "      <td>06:00:00</td>\n",
       "      <td>2024</td>\n",
       "      <td>10</td>\n",
       "      <td>23</td>\n",
       "      <td>17:00:00</td>\n",
       "      <td>False</td>\n",
       "      <td>False</td>\n",
       "      <td>False</td>\n",
       "      <td>False</td>\n",
       "      <td>False</td>\n",
       "      <td>True</td>\n",
       "      <td>Space Station</td>\n",
       "      <td>0</td>\n",
       "    </tr>\n",
       "  </tbody>\n",
       "</table>\n",
       "</div>"
      ],
      "text/plain": [
       "            Timestamp             Location  Traffic_Density Peak_Time  Year  \\\n",
       "0 2024-10-21 21:00:00    Lagrange Point L2               17  15:00:00  2024   \n",
       "1 2024-10-11 05:00:00            Orbit LEO               21  15:00:00  2024   \n",
       "2 2024-10-29 13:00:00            Orbit LEO               88  06:00:00  2024   \n",
       "3 2024-10-24 08:00:00  Mars Transfer Orbit               65  08:00:00  2024   \n",
       "4 2024-10-23 17:00:00    Lagrange Point L1                9  06:00:00  2024   \n",
       "\n",
       "   Month  Day      Time  Object_Type_Asteroid Mining Ship  \\\n",
       "0     10   21  21:00:00                             False   \n",
       "1     10   11  05:00:00                             False   \n",
       "2     10   29  13:00:00                             False   \n",
       "3     10   24  08:00:00                             False   \n",
       "4     10   23  17:00:00                             False   \n",
       "\n",
       "   Object_Type_Manned Spacecraft  Object_Type_Satellite  \\\n",
       "0                          False                  False   \n",
       "1                          False                   True   \n",
       "2                          False                  False   \n",
       "3                          False                  False   \n",
       "4                          False                  False   \n",
       "\n",
       "   Object_Type_Scientific Probe  Object_Type_Space Debris  \\\n",
       "0                         False                     False   \n",
       "1                         False                     False   \n",
       "2                         False                     False   \n",
       "3                          True                     False   \n",
       "4                         False                     False   \n",
       "\n",
       "   Object_Type_Space Station       Object_Type  Location_Encoded  \n",
       "0                       True     Space Station                 1  \n",
       "1                      False         Satellite                 4  \n",
       "2                       True     Space Station                 4  \n",
       "3                      False  Scientific Probe                 2  \n",
       "4                       True     Space Station                 0  "
      ]
     },
     "execution_count": 41,
     "metadata": {},
     "output_type": "execute_result"
    }
   ],
   "source": [
    "data.head()"
   ]
  },
  {
   "cell_type": "code",
   "execution_count": 42,
   "metadata": {},
   "outputs": [
    {
     "data": {
      "text/plain": [
       "(1000, 16)"
      ]
     },
     "execution_count": 42,
     "metadata": {},
     "output_type": "execute_result"
    }
   ],
   "source": [
    "data.shape"
   ]
  },
  {
   "cell_type": "code",
   "execution_count": 43,
   "metadata": {},
   "outputs": [],
   "source": [
    "data.to_excel('data/processed_data.xlsx')"
   ]
  },
  {
   "cell_type": "markdown",
   "metadata": {},
   "source": [
    "## Train Model"
   ]
  },
  {
   "cell_type": "code",
   "execution_count": 44,
   "metadata": {},
   "outputs": [],
   "source": [
    "X = data_encoded.drop(columns=['Traffic_Density', 'Timestamp', 'Location', 'Peak_Time', 'Time'])\n",
    "y = data_encoded['Traffic_Density']"
   ]
  },
  {
   "cell_type": "code",
   "execution_count": 45,
   "metadata": {},
   "outputs": [],
   "source": [
    "X_train, X_test, y_train, y_test = train_test_split(X, y, test_size=0.2, random_state=42)\n"
   ]
  },
  {
   "cell_type": "code",
   "execution_count": 46,
   "metadata": {},
   "outputs": [
    {
     "name": "stdout",
     "output_type": "stream",
     "text": [
      "Training Set Mean Squared Error: 318.2471972649969\n",
      "Training Set Mean Absolute Error: 13.869703314879565\n",
      "Training Set R-squared: 0.5922010105979878\n",
      "Test Set Mean Squared Error: 936.9052801443287\n",
      "Test Set Mean Absolute Error: 25.420753253968254\n",
      "Test Set R-squared: -0.17004112185484233\n",
      "Model RandomForestRegressor saved in 'model/RandomForestRegressor.joblib'\n"
     ]
    }
   ],
   "source": [
    "from sklearn.model_selection import train_test_split\n",
    "from sklearn.ensemble import RandomForestRegressor\n",
    "from sklearn.metrics import mean_squared_error, mean_absolute_error, r2_score\n",
    "import joblib\n",
    "\n",
    "# Define the features and target\n",
    "features = ['Location_Encoded','Year', 'Month', 'Day', \n",
    "            'Object_Type_Asteroid Mining Ship', 'Object_Type_Manned Spacecraft', \n",
    "            'Object_Type_Satellite', 'Object_Type_Scientific Probe', \n",
    "            'Object_Type_Space Debris', 'Object_Type_Space Station']\n",
    "target = 'Traffic_Density'\n",
    "\n",
    "# Split the data into training and testing sets\n",
    "X_train, X_test, y_train, y_test = train_test_split(data[features], data[target], test_size=0.2, random_state=42)\n",
    "\n",
    "# Initialize the RandomForestRegressor\n",
    "random_forest_model = RandomForestRegressor(n_estimators=100, random_state=42)\n",
    "\n",
    "# Train the model\n",
    "random_forest_model.fit(X_train, y_train)\n",
    "\n",
    "# Predict on the training set\n",
    "y_pred_train = random_forest_model.predict(X_train)\n",
    "\n",
    "# Evaluate the model on the training set using various metrics\n",
    "mse_train = mean_squared_error(y_train, y_pred_train)\n",
    "mae_train = mean_absolute_error(y_train, y_pred_train)\n",
    "r2_train = r2_score(y_train, y_pred_train)\n",
    "\n",
    "print(f\"Training Set Mean Squared Error: {mse_train}\")\n",
    "print(f\"Training Set Mean Absolute Error: {mae_train}\")\n",
    "print(f\"Training Set R-squared: {r2_train}\")\n",
    "\n",
    "# Predict on the test set\n",
    "y_pred_test = random_forest_model.predict(X_test)\n",
    "\n",
    "# Evaluate the model on the test set using various metrics\n",
    "mse_test = mean_squared_error(y_test, y_pred_test)\n",
    "mae_test = mean_absolute_error(y_test, y_pred_test)\n",
    "r2_test = r2_score(y_test, y_pred_test)\n",
    "\n",
    "print(f\"Test Set Mean Squared Error: {mse_test}\")\n",
    "print(f\"Test Set Mean Absolute Error: {mae_test}\")\n",
    "print(f\"Test Set R-squared: {r2_test}\")\n",
    "\n",
    "# Save the trained model\n",
    "joblib.dump(random_forest_model, 'model/RandomForestRegressor.joblib')\n",
    "\n",
    "print(\"Model RandomForestRegressor saved in 'model/RandomForestRegressor.joblib'\")"
   ]
  },
  {
   "cell_type": "code",
   "execution_count": 47,
   "metadata": {},
   "outputs": [
    {
     "name": "stdout",
     "output_type": "stream",
     "text": [
      "Training Set Mean Squared Error: 774.2231233170689\n",
      "Training Set Mean Absolute Error: 23.637366383894136\n",
      "Training Set R-squared: 0.007917713105666468\n",
      "Test Set Mean Squared Error: 802.3211727159644\n",
      "Test Set Mean Absolute Error: 24.731522353621543\n",
      "Test Set R-squared: -0.001967632061873781\n",
      "Model LinearRegression saved in 'model/LinearRegression.joblib'\n"
     ]
    }
   ],
   "source": [
    "from sklearn.model_selection import train_test_split\n",
    "from sklearn.linear_model import LinearRegression\n",
    "from sklearn.metrics import mean_squared_error, mean_absolute_error, r2_score\n",
    "import joblib\n",
    "\n",
    "# Define the features and target\n",
    "features = ['Location_Encoded', 'Year', 'Month', 'Day', \n",
    "            'Object_Type_Asteroid Mining Ship', 'Object_Type_Manned Spacecraft', \n",
    "            'Object_Type_Satellite', 'Object_Type_Scientific Probe', \n",
    "            'Object_Type_Space Debris', 'Object_Type_Space Station']\n",
    "target = 'Traffic_Density'\n",
    "\n",
    "# Split the data into training and testing sets\n",
    "X_train, X_test, y_train, y_test = train_test_split(data[features], data[target], test_size=0.2, random_state=42)\n",
    "\n",
    "# Initialize the LinearRegression model\n",
    "linear_regression_model = LinearRegression()\n",
    "\n",
    "# Train the model\n",
    "linear_regression_model.fit(X_train, y_train)\n",
    "\n",
    "# Predict on the training set\n",
    "y_pred_train = linear_regression_model.predict(X_train)\n",
    "\n",
    "# Evaluate the model on the training set using various metrics\n",
    "mse_train = mean_squared_error(y_train, y_pred_train)\n",
    "mae_train = mean_absolute_error(y_train, y_pred_train)\n",
    "r2_train = r2_score(y_train, y_pred_train)\n",
    "\n",
    "print(f\"Training Set Mean Squared Error: {mse_train}\")\n",
    "print(f\"Training Set Mean Absolute Error: {mae_train}\")\n",
    "print(f\"Training Set R-squared: {r2_train}\")\n",
    "\n",
    "# Predict on the test set\n",
    "y_pred_test = linear_regression_model.predict(X_test)\n",
    "\n",
    "# Evaluate the model on the test set using various metrics\n",
    "mse_test = mean_squared_error(y_test, y_pred_test)\n",
    "mae_test = mean_absolute_error(y_test, y_pred_test)\n",
    "r2_test = r2_score(y_test, y_pred_test)\n",
    "\n",
    "print(f\"Test Set Mean Squared Error: {mse_test}\")\n",
    "print(f\"Test Set Mean Absolute Error: {mae_test}\")\n",
    "print(f\"Test Set R-squared: {r2_test}\")\n",
    "\n",
    "# Save the trained model\n",
    "joblib.dump(linear_regression_model, 'model/LinearRegression.joblib')\n",
    "\n",
    "print(\"Model LinearRegression saved in 'model/LinearRegression.joblib'\")"
   ]
  },
  {
   "cell_type": "code",
   "execution_count": 48,
   "metadata": {},
   "outputs": [
    {
     "name": "stdout",
     "output_type": "stream",
     "text": [
      "Training Set Mean Squared Error: 780.6619779905138\n",
      "Training Set Mean Absolute Error: 23.771465830051067\n",
      "Training Set R-squared: -0.00033297519984865076\n",
      "Test Set Mean Squared Error: 800.7477340473764\n",
      "Test Set Mean Absolute Error: 24.73196848974163\n",
      "Test Set R-squared: -2.6650753703894026e-06\n",
      "Model SVR saved in 'model/SVR.joblib'\n"
     ]
    }
   ],
   "source": [
    "from sklearn.model_selection import train_test_split\n",
    "from sklearn.svm import SVR\n",
    "from sklearn.metrics import mean_squared_error, mean_absolute_error, r2_score\n",
    "import joblib\n",
    "\n",
    "# Define the features and target\n",
    "features = ['Location_Encoded', 'Year', 'Month', 'Day', \n",
    "            'Object_Type_Asteroid Mining Ship', 'Object_Type_Manned Spacecraft', \n",
    "            'Object_Type_Satellite', 'Object_Type_Scientific Probe', \n",
    "            'Object_Type_Space Debris', 'Object_Type_Space Station']\n",
    "target = 'Traffic_Density'\n",
    "\n",
    "# Split the data into training and testing sets\n",
    "X_train, X_test, y_train, y_test = train_test_split(data[features], data[target], test_size=0.2, random_state=42)\n",
    "\n",
    "# Initialize the SVR model\n",
    "svr_model = SVR(kernel='rbf')\n",
    "\n",
    "# Train the model\n",
    "svr_model.fit(X_train, y_train)\n",
    "\n",
    "# Predict on the training set\n",
    "y_pred_train = svr_model.predict(X_train)\n",
    "\n",
    "# Evaluate the model on the training set using various metrics\n",
    "mse_train = mean_squared_error(y_train, y_pred_train)\n",
    "mae_train = mean_absolute_error(y_train, y_pred_train)\n",
    "r2_train = r2_score(y_train, y_pred_train)\n",
    "\n",
    "print(f\"Training Set Mean Squared Error: {mse_train}\")\n",
    "print(f\"Training Set Mean Absolute Error: {mae_train}\")\n",
    "print(f\"Training Set R-squared: {r2_train}\")\n",
    "\n",
    "# Predict on the test set\n",
    "y_pred_test = svr_model.predict(X_test)\n",
    "\n",
    "# Evaluate the model on the test set using various metrics\n",
    "mse_test = mean_squared_error(y_test, y_pred_test)\n",
    "mae_test = mean_absolute_error(y_test, y_pred_test)\n",
    "r2_test = r2_score(y_test, y_pred_test)\n",
    "\n",
    "print(f\"Test Set Mean Squared Error: {mse_test}\")\n",
    "print(f\"Test Set Mean Absolute Error: {mae_test}\")\n",
    "print(f\"Test Set R-squared: {r2_test}\")\n",
    "\n",
    "# Save the trained model\n",
    "joblib.dump(svr_model, 'model/SVR.joblib')\n",
    "\n",
    "print(\"Model SVR saved in 'model/SVR.joblib'\")"
   ]
  },
  {
   "cell_type": "markdown",
   "metadata": {},
   "source": [
    "## Testing Prediction"
   ]
  },
  {
   "cell_type": "code",
   "execution_count": 49,
   "metadata": {},
   "outputs": [
    {
     "name": "stdout",
     "output_type": "stream",
     "text": [
      "Predicted Traffic Density: 20.983\n"
     ]
    }
   ],
   "source": [
    "import joblib\n",
    "import pandas as pd\n",
    "\n",
    "# Load the trained RandomForestRegressor model\n",
    "model = joblib.load('model/RandomForestRegressor.joblib')\n",
    "\n",
    "# Load the trained LabelEncoder\n",
    "location_encoder = joblib.load('model/label_encoder.joblib')  # Updated to match the correct saved file name\n",
    "\n",
    "# Example input data for prediction (replace this with actual input data)\n",
    "input_data = {\n",
    "    'Location': ['Lagrange Point L2'],  \n",
    "    'Year': [2024],\n",
    "    'Month': [10],\n",
    "    'Day': [21],\n",
    "    'Object_Type_Asteroid Mining Ship': [False],\n",
    "    'Object_Type_Manned Spacecraft': [False],\n",
    "    'Object_Type_Satellite': [False],\n",
    "    'Object_Type_Scientific Probe': [False],\n",
    "    'Object_Type_Space Debris': [False],\n",
    "    'Object_Type_Space Station': [True]\n",
    "}\n",
    "\n",
    "# Convert the input data into a pandas DataFrame\n",
    "input_df = pd.DataFrame(input_data)\n",
    "\n",
    "# Encode the 'Location' column using the loaded LabelEncoder\n",
    "try:\n",
    "    input_df['Location_Encoded'] = location_encoder.transform(input_df['Location'])\n",
    "except ValueError as e:\n",
    "    print(f\"Error encoding location: {e}. Ensure the input data matches the training data locations.\")\n",
    "\n",
    "# Drop the 'Location' column (as it's no longer needed after encoding)\n",
    "input_df = input_df.drop('Location', axis=1)\n",
    "\n",
    "# Ensure the column order matches the model's training data\n",
    "columns_order = ['Location_Encoded','Year', 'Month', 'Day', 'Object_Type_Asteroid Mining Ship', 'Object_Type_Manned Spacecraft', \n",
    "            'Object_Type_Satellite', 'Object_Type_Scientific Probe', 'Object_Type_Space Debris', \n",
    "            'Object_Type_Space Station']\n",
    "\n",
    "input_df = input_df[columns_order]\n",
    "\n",
    "# Make prediction using the trained model\n",
    "prediction = model.predict(input_df)\n",
    "\n",
    "# Display the prediction result\n",
    "print(\"Predicted Traffic Density:\", prediction[0])\n"
   ]
  }
 ],
 "metadata": {
  "kernelspec": {
   "display_name": "Python 3",
   "language": "python",
   "name": "python3"
  },
  "language_info": {
   "codemirror_mode": {
    "name": "ipython",
    "version": 3
   },
   "file_extension": ".py",
   "mimetype": "text/x-python",
   "name": "python",
   "nbconvert_exporter": "python",
   "pygments_lexer": "ipython3",
   "version": "3.12.3"
  }
 },
 "nbformat": 4,
 "nbformat_minor": 2
}
